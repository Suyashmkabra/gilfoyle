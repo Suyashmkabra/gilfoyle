{
 "cells": [
  {
   "cell_type": "code",
   "execution_count": 1,
   "id": "1470025e-a21d-4b10-99eb-ce5c0bed1282",
   "metadata": {},
   "outputs": [
    {
     "name": "stdout",
     "output_type": "stream",
     "text": [
      "WARNING:tensorflow:From E:\\anaconda3\\envs\\mpr6\\Lib\\site-packages\\tf_keras\\src\\losses.py:2976: The name tf.losses.sparse_softmax_cross_entropy is deprecated. Please use tf.compat.v1.losses.sparse_softmax_cross_entropy instead.\n",
      "\n"
     ]
    }
   ],
   "source": [
    "import cv2 \n",
    "from deepface import DeepFace\n",
    "import threading"
   ]
  },
  {
   "cell_type": "code",
   "execution_count": 2,
   "id": "6cf1012f-b047-4f51-8fdb-1ca50bbb98e9",
   "metadata": {},
   "outputs": [],
   "source": [
    "cap= cv2.VideoCapture(0,cv2.CAP_DSHOW)\n",
    "\n",
    "cap.set(cv2.CAP_PROP_FRAME_WIDTH,640)\n",
    "cap.set(cv2.CAP_PROP_FRAME_HEIGHT,480)\n",
    "\n",
    "counter =0\n",
    "face_match=False\n",
    "\n",
    "reference_image= cv2.imread('assets\\pvr_happy.jpg')\n",
    "\n",
    "def check_face(frame):\n",
    "    global face_match\n",
    "    if DeepFace.verify(frame,reference_image.copy(),enforce_detection=False)['verified']:\n",
    "        face_match=True\n",
    "    else:\n",
    "        face_match = False\n",
    "\n",
    "while True:\n",
    "    ret, frame = cap.read()\n",
    "    check_face(frame.copy())\n",
    "    if face_match:\n",
    "        cv2.putText(frame,\"parth rathi Detected!\",(20,450),cv2.FONT_HERSHEY_SIMPLEX,2,(0,255,0),2)\n",
    "    else:\n",
    "        cv2.putText(frame,\"Nah! he's fine\",(20,450),cv2.FONT_HERSHEY_SIMPLEX,2,(0,255,0),2)\n",
    "        \n",
    "    cv2.imshow(\"video\",frame)\n",
    "\n",
    "    \n",
    "    if cv2.waitKey(1) & 0xFF == ord('q'):\n",
    "        break\n",
    "\n",
    "cap.release()\n",
    "cv2.destroyAllWindows()"
   ]
  },
  {
   "cell_type": "code",
   "execution_count": null,
   "id": "4c125b79-5d54-4b8a-b865-b59f871a995e",
   "metadata": {},
   "outputs": [],
   "source": []
  }
 ],
 "metadata": {
  "kernelspec": {
   "display_name": "Python 3 (ipykernel)",
   "language": "python",
   "name": "python3"
  },
  "language_info": {
   "codemirror_mode": {
    "name": "ipython",
    "version": 3
   },
   "file_extension": ".py",
   "mimetype": "text/x-python",
   "name": "python",
   "nbconvert_exporter": "python",
   "pygments_lexer": "ipython3",
   "version": "3.11.8"
  }
 },
 "nbformat": 4,
 "nbformat_minor": 5
}
